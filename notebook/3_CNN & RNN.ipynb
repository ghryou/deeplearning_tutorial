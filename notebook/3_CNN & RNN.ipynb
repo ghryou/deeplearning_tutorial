{
 "cells": [
  {
   "cell_type": "markdown",
   "metadata": {},
   "source": [
    "Convolutional Neural Network\n",
    "---\n",
    "\n",
    "<img src=\"https://ars.els-cdn.com/content/image/1-s2.0-S016516841500290X-gr1.jpg\" alt=\"Drawing\" style=\"width: 500px;\"/>\n",
    "\n",
    "<img src=\"http://yann.lecun.com/exdb/lenet/gifs/f333.gif\" alt=\"Drawing\" style=\"width: 500px;\"/>\n",
    "\n",
    "<img src=\"https://image.slidesharecdn.com/random-170910154045/95/-64-638.jpg?cb=1505089848\" alt=\"Drawing\" style=\"width: 700px;\"/>\n",
    "\n",
    "<img src=\"https://image.slidesharecdn.com/random-170910154045/95/-64-638.jpg?cb=1505089848\" alt=\"Drawing\" style=\"width: 700px;\"/>\n",
    "https://encrypted-tbn0.gstatic.com/images?q=tbn:ANd9GcQtox5IW0GC0_AEXhVeLDJ4f-5ePyxd8AzTQUyBclJMTRTtvilm"
   ]
  }
 ],
 "metadata": {
  "kernelspec": {
   "display_name": "Python 3",
   "language": "python",
   "name": "python3"
  },
  "language_info": {
   "codemirror_mode": {
    "name": "ipython",
    "version": 3
   },
   "file_extension": ".py",
   "mimetype": "text/x-python",
   "name": "python",
   "nbconvert_exporter": "python",
   "pygments_lexer": "ipython3",
   "version": "3.5.5"
  }
 },
 "nbformat": 4,
 "nbformat_minor": 2
}
