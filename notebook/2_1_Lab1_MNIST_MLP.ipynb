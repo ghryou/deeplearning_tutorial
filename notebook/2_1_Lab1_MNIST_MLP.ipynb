{
 "cells": [
  {
   "cell_type": "markdown",
   "metadata": {},
   "source": [
    "# MNIST handwritten digits classification with MLPs\n",
    "\n",
    "In this notebook, we'll train a multi-layer perceptron model to classify MNIST digits using **PyTorch**. \n",
    "\n",
    "First, the needed imports. "
   ]
  },
  {
   "cell_type": "code",
   "execution_count": 1,
   "metadata": {},
   "outputs": [
    {
     "name": "stdout",
     "output_type": "stream",
     "text": [
      "Using PyTorch version: 0.5.0a0+e7f49d1 CUDA: False\n"
     ]
    }
   ],
   "source": [
    "%matplotlib inline\n",
    "\n",
    "import torch\n",
    "import torch.nn as nn\n",
    "import torch.nn.functional as F\n",
    "import torch.optim as optim\n",
    "from torchvision import datasets, transforms\n",
    "from torch.autograd import Variable\n",
    "\n",
    "import numpy as np\n",
    "import matplotlib.pyplot as plt\n",
    "\n",
    "cuda = torch.cuda.is_available()\n",
    "print('Using PyTorch version:', torch.__version__, 'CUDA:', cuda)\n",
    "\n",
    "#torch.manual_seed(42)\n",
    "#if cuda:\n",
    "#    torch.cuda.manual_seed(42)"
   ]
  },
  {
   "cell_type": "markdown",
   "metadata": {},
   "source": [
    "## Data\n",
    "\n",
    "Next we'll load the MNIST data.  First time we may have to download the data, which can take a while.\n",
    "\n",
    "Note that we are here using the MNIST test data for *validation*, instead of for testing the final model."
   ]
  },
  {
   "cell_type": "code",
   "execution_count": 12,
   "metadata": {},
   "outputs": [],
   "source": [
    "batch_size = 32\n",
    "\n",
    "kwargs = {'num_workers': 1, 'pin_memory': True} if cuda else {}\n",
    "\n",
    "train_loader = torch.utils.data.DataLoader(\n",
    "    datasets.MNIST('../data', train=True, download=True,\n",
    "                   transform=transforms.Compose([\n",
    "                       transforms.ToTensor(),\n",
    "                       transforms.Normalize((0.1307,), (0.3081,))\n",
    "                   ])),\n",
    "    batch_size=batch_size, shuffle=True, **kwargs)\n",
    "\n",
    "validation_loader = torch.utils.data.DataLoader(\n",
    "    datasets.MNIST('../data', train=False, transform=transforms.Compose([\n",
    "                       transforms.ToTensor(),\n",
    "                       transforms.Normalize((0.1307,), (0.3081,))\n",
    "                   ])),\n",
    "    batch_size=batch_size, shuffle=False, **kwargs)"
   ]
  },
  {
   "cell_type": "markdown",
   "metadata": {},
   "source": [
    "The train and test data are provided via data loaders that provide iterators over the datasets. The first element of training data (`X_train`) is a 4th-order tensor of size (`batch_size`, 1, 28, 28), i.e. it consists of a batch of images of size 1x28x28 pixels. `y_train` is a vector containing the correct classes (\"0\", \"1\", ..., \"9\") for each training digit."
   ]
  },
  {
   "cell_type": "code",
   "execution_count": 4,
   "metadata": {},
   "outputs": [
    {
     "name": "stdout",
     "output_type": "stream",
     "text": [
      "X_train: torch.Size([32, 1, 28, 28]) type: torch.FloatTensor\n",
      "y_train: torch.Size([32]) type: torch.LongTensor\n"
     ]
    }
   ],
   "source": [
    "for (X_train, y_train) in train_loader:\n",
    "    print('X_train:', X_train.size(), 'type:', X_train.type())\n",
    "    print('y_train:', y_train.size(), 'type:', y_train.type())\n",
    "    break"
   ]
  },
  {
   "cell_type": "markdown",
   "metadata": {},
   "source": [
    "Here are the first 10 training digits:"
   ]
  },
  {
   "cell_type": "code",
   "execution_count": 5,
   "metadata": {},
   "outputs": [
    {
     "data": {
      "image/png": "[encoded data removed]",
      "text/plain": [
       "<Figure size 720x72 with 10 Axes>"
      ]
     },
     "metadata": {},
     "output_type": "display_data"
    }
   ],
   "source": [
    "pltsize=1\n",
    "plt.figure(figsize=(10*pltsize, pltsize))\n",
    "\n",
    "for i in range(10):\n",
    "    plt.subplot(1,10,i+1)\n",
    "    plt.axis('off')\n",
    "    plt.imshow(X_train[i,:,:,:].numpy().reshape(28,28), cmap=\"gray\")\n",
    "    plt.title('Class: '+str(y_train[i]))"
   ]
  },
  {
   "cell_type": "markdown",
   "metadata": {},
   "source": [
    "## MLP network definition\n",
    "\n",
    "Let's define the network as a Python class.  We have to write the `__init__()` and `forward()` methods, and PyTorch will automatically generate a `backward()` method for computing the gradients for the backward pass.\n",
    "\n",
    "Finally, we define an optimizer to update the model parameters based on the computed gradients.  We select *stochastic gradient descent (with momentum)* as the optimization algorithm, and set *learning rate* to 0.01.  Note that there are [several different options](http://pytorch.org/docs/optim.html#algorithms) for the optimizer in PyTorch that we could use instead of *SGD*."
   ]
  },
  {
   "cell_type": "code",
   "execution_count": 8,
   "metadata": {},
   "outputs": [
    {
     "name": "stdout",
     "output_type": "stream",
     "text": [
      "Net(\n",
      "  (fc1): Linear(in_features=784, out_features=50, bias=True)\n",
      "  (fc1_drop): Dropout(p=0.2)\n",
      "  (fc2): Linear(in_features=50, out_features=50, bias=True)\n",
      "  (fc2_drop): Dropout(p=0.2)\n",
      "  (fc3): Linear(in_features=50, out_features=10, bias=True)\n",
      ")\n"
     ]
    }
   ],
   "source": [
    "class Net(nn.Module):\n",
    "    def __init__(self):\n",
    "        super(Net, self).__init__()\n",
    "        self.fc1 = nn.Linear(28*28, 50)\n",
    "        self.fc1_drop = nn.Dropout(0.2)\n",
    "        self.fc2 = nn.Linear(50, 50)\n",
    "        self.fc2_drop = nn.Dropout(0.2)\n",
    "        self.fc3 = nn.Linear(50, 10)\n",
    "\n",
    "    def forward(self, x):\n",
    "        x = x.view(-1, 28*28)\n",
    "        x = F.relu(self.fc1(x))\n",
    "        x = self.fc1_drop(x)\n",
    "        x = F.relu(self.fc2(x))\n",
    "        x = self.fc2_drop(x)\n",
    "        return F.log_softmax(self.fc3(x))\n",
    "\n",
    "model = Net()\n",
    "if cuda:\n",
    "    model.cuda()\n",
    "    \n",
    "optimizer = optim.SGD(model.parameters(), lr=0.01)\n",
    "\n",
    "print(model)"
   ]
  },
  {
   "cell_type": "markdown",
   "metadata": {},
   "source": [
    "## Learning\n",
    "\n",
    "Let's now define functions to `train()` and `test()` the model. "
   ]
  },
  {
   "cell_type": "code",
   "execution_count": 9,
   "metadata": {},
   "outputs": [],
   "source": [
    "def train(epoch, log_interval=100):\n",
    "    model.train()\n",
    "    for batch_idx, (data, target) in enumerate(train_loader):\n",
    "        if cuda:\n",
    "            data, target = data.cuda(), target.cuda()\n",
    "        data, target = Variable(data), Variable(target)\n",
    "        optimizer.zero_grad()\n",
    "        output = model(data)\n",
    "        loss = F.nll_loss(output, target)\n",
    "        loss.backward()\n",
    "        optimizer.step()\n",
    "        if batch_idx % log_interval == 0:\n",
    "            print('Train Epoch: {} [{}/{} ({:.0f}%)]\\tLoss: {:.6f}'.format(\n",
    "                epoch, batch_idx * len(data), len(train_loader.dataset),\n",
    "                100. * batch_idx / len(train_loader), loss.data[0]))"
   ]
  },
  {
   "cell_type": "code",
   "execution_count": 10,
   "metadata": {},
   "outputs": [],
   "source": [
    "def validate(loss_vector, accuracy_vector):\n",
    "    model.eval()\n",
    "    val_loss, correct = 0, 0\n",
    "    for data, target in validation_loader:\n",
    "        if cuda:\n",
    "            data, target = data.cuda(), target.cuda()\n",
    "        data, target = Variable(data, volatile=True), Variable(target)\n",
    "        output = model(data)\n",
    "        val_loss += F.nll_loss(output, target).data[0]\n",
    "        pred = output.data.max(1)[1] # get the index of the max log-probability\n",
    "        correct += pred.eq(target.data).cpu().sum()\n",
    "\n",
    "    val_loss /= len(validation_loader)\n",
    "    loss_vector.append(val_loss)\n",
    "\n",
    "    accuracy = 100. * correct / len(validation_loader.dataset)\n",
    "    accuracy_vector.append(accuracy)\n",
    "    \n",
    "    print('\\nValidation set: Average loss: {:.4f}, Accuracy: {}/{} ({:.0f}%)\\n'.format(\n",
    "        val_loss, correct, len(validation_loader.dataset), accuracy))"
   ]
  },
  {
   "cell_type": "markdown",
   "metadata": {},
   "source": [
    "Now we are ready to train our model using the `train()` function.  An *epoch* means one pass through the whole training data. After each epoch, we evaluate the model using `test()`. "
   ]
  },
  {
   "cell_type": "code",
   "execution_count": 13,
   "metadata": {},
   "outputs": [
    {
     "name": "stderr",
     "output_type": "stream",
     "text": [
      "/opt/conda/envs/pytorch-py3.5.5/lib/python3.5/site-packages/ipykernel_launcher.py:16: UserWarning: Implicit dimension choice for log_softmax has been deprecated. Change the call to include dim=X as an argument.\n",
      "  app.launch_new_instance()\n",
      "/opt/conda/envs/pytorch-py3.5.5/lib/python3.5/site-packages/ipykernel_launcher.py:15: UserWarning: invalid index of a 0-dim tensor. This will be an error in PyTorch 0.5. Use tensor.item() to convert a 0-dim tensor to a Python number\n",
      "  from ipykernel import kernelapp as app\n"
     ]
    },
    {
     "name": "stdout",
     "output_type": "stream",
     "text": [
      "Train Epoch: 1 [0/60000 (0%)]\tLoss: 2.307267\n",
      "Train Epoch: 1 [3200/60000 (5%)]\tLoss: 2.225373\n",
      "Train Epoch: 1 [6400/60000 (11%)]\tLoss: 1.585197\n",
      "Train Epoch: 1 [9600/60000 (16%)]\tLoss: 1.500657\n",
      "Train Epoch: 1 [12800/60000 (21%)]\tLoss: 1.174187\n",
      "Train Epoch: 1 [16000/60000 (27%)]\tLoss: 0.783079\n",
      "Train Epoch: 1 [19200/60000 (32%)]\tLoss: 0.802454\n",
      "Train Epoch: 1 [22400/60000 (37%)]\tLoss: 0.863333\n",
      "Train Epoch: 1 [25600/60000 (43%)]\tLoss: 0.538469\n",
      "Train Epoch: 1 [28800/60000 (48%)]\tLoss: 0.717690\n",
      "Train Epoch: 1 [32000/60000 (53%)]\tLoss: 0.724804\n",
      "Train Epoch: 1 [35200/60000 (59%)]\tLoss: 0.329790\n",
      "Train Epoch: 1 [38400/60000 (64%)]\tLoss: 0.735877\n",
      "Train Epoch: 1 [41600/60000 (69%)]\tLoss: 0.635765\n",
      "Train Epoch: 1 [44800/60000 (75%)]\tLoss: 0.419463\n",
      "Train Epoch: 1 [48000/60000 (80%)]\tLoss: 0.395343\n",
      "Train Epoch: 1 [51200/60000 (85%)]\tLoss: 0.235339\n",
      "Train Epoch: 1 [54400/60000 (91%)]\tLoss: 0.290440\n",
      "Train Epoch: 1 [57600/60000 (96%)]\tLoss: 0.850454\n"
     ]
    },
    {
     "name": "stderr",
     "output_type": "stream",
     "text": [
      "/opt/conda/envs/pytorch-py3.5.5/lib/python3.5/site-packages/ipykernel_launcher.py:7: UserWarning: volatile was removed and now has no effect. Use `with torch.no_grad():` instead.\n",
      "  import sys\n",
      "/opt/conda/envs/pytorch-py3.5.5/lib/python3.5/site-packages/ipykernel_launcher.py:9: UserWarning: invalid index of a 0-dim tensor. This will be an error in PyTorch 0.5. Use tensor.item() to convert a 0-dim tensor to a Python number\n",
      "  if __name__ == '__main__':\n"
     ]
    },
    {
     "name": "stdout",
     "output_type": "stream",
     "text": [
      "\n",
      "Validation set: Average loss: 0.2909, Accuracy: 9156/10000 (91%)\n",
      "\n",
      "Train Epoch: 2 [0/60000 (0%)]\tLoss: 0.446627\n",
      "Train Epoch: 2 [3200/60000 (5%)]\tLoss: 0.272320\n",
      "Train Epoch: 2 [6400/60000 (11%)]\tLoss: 0.483926\n",
      "Train Epoch: 2 [9600/60000 (16%)]\tLoss: 0.665260\n",
      "Train Epoch: 2 [12800/60000 (21%)]\tLoss: 0.433469\n",
      "Train Epoch: 2 [16000/60000 (27%)]\tLoss: 0.122423\n",
      "Train Epoch: 2 [19200/60000 (32%)]\tLoss: 0.638613\n",
      "Train Epoch: 2 [22400/60000 (37%)]\tLoss: 0.396046\n",
      "Train Epoch: 2 [25600/60000 (43%)]\tLoss: 0.702651\n",
      "Train Epoch: 2 [28800/60000 (48%)]\tLoss: 0.235337\n",
      "Train Epoch: 2 [32000/60000 (53%)]\tLoss: 0.299014\n",
      "Train Epoch: 2 [35200/60000 (59%)]\tLoss: 0.370270\n",
      "Train Epoch: 2 [38400/60000 (64%)]\tLoss: 0.454355\n",
      "Train Epoch: 2 [41600/60000 (69%)]\tLoss: 0.209597\n",
      "Train Epoch: 2 [44800/60000 (75%)]\tLoss: 0.413270\n",
      "Train Epoch: 2 [48000/60000 (80%)]\tLoss: 0.283687\n",
      "Train Epoch: 2 [51200/60000 (85%)]\tLoss: 0.552999\n",
      "Train Epoch: 2 [54400/60000 (91%)]\tLoss: 0.585682\n",
      "Train Epoch: 2 [57600/60000 (96%)]\tLoss: 0.309601\n",
      "\n",
      "Validation set: Average loss: 0.2284, Accuracy: 9323/10000 (93%)\n",
      "\n",
      "Train Epoch: 3 [0/60000 (0%)]\tLoss: 0.310064\n",
      "Train Epoch: 3 [3200/60000 (5%)]\tLoss: 0.209103\n",
      "Train Epoch: 3 [6400/60000 (11%)]\tLoss: 0.662459\n",
      "Train Epoch: 3 [9600/60000 (16%)]\tLoss: 0.414258\n",
      "Train Epoch: 3 [12800/60000 (21%)]\tLoss: 0.502391\n",
      "Train Epoch: 3 [16000/60000 (27%)]\tLoss: 0.264519\n",
      "Train Epoch: 3 [19200/60000 (32%)]\tLoss: 0.301104\n",
      "Train Epoch: 3 [22400/60000 (37%)]\tLoss: 0.595338\n",
      "Train Epoch: 3 [25600/60000 (43%)]\tLoss: 0.199221\n",
      "Train Epoch: 3 [28800/60000 (48%)]\tLoss: 0.381495\n",
      "Train Epoch: 3 [32000/60000 (53%)]\tLoss: 0.351450\n",
      "Train Epoch: 3 [35200/60000 (59%)]\tLoss: 0.344759\n",
      "Train Epoch: 3 [38400/60000 (64%)]\tLoss: 0.477577\n",
      "Train Epoch: 3 [41600/60000 (69%)]\tLoss: 0.141622\n",
      "Train Epoch: 3 [44800/60000 (75%)]\tLoss: 0.583217\n",
      "Train Epoch: 3 [48000/60000 (80%)]\tLoss: 0.269463\n",
      "Train Epoch: 3 [51200/60000 (85%)]\tLoss: 0.310023\n",
      "Train Epoch: 3 [54400/60000 (91%)]\tLoss: 0.068932\n",
      "Train Epoch: 3 [57600/60000 (96%)]\tLoss: 0.212586\n",
      "\n",
      "Validation set: Average loss: 0.1906, Accuracy: 9418/10000 (94%)\n",
      "\n",
      "Train Epoch: 4 [0/60000 (0%)]\tLoss: 0.363327\n",
      "Train Epoch: 4 [3200/60000 (5%)]\tLoss: 0.194754\n",
      "Train Epoch: 4 [6400/60000 (11%)]\tLoss: 0.374299\n",
      "Train Epoch: 4 [9600/60000 (16%)]\tLoss: 0.426506\n",
      "Train Epoch: 4 [12800/60000 (21%)]\tLoss: 0.303308\n",
      "Train Epoch: 4 [16000/60000 (27%)]\tLoss: 0.217535\n",
      "Train Epoch: 4 [19200/60000 (32%)]\tLoss: 0.383147\n",
      "Train Epoch: 4 [22400/60000 (37%)]\tLoss: 0.237793\n",
      "Train Epoch: 4 [25600/60000 (43%)]\tLoss: 0.300646\n",
      "Train Epoch: 4 [28800/60000 (48%)]\tLoss: 0.074434\n",
      "Train Epoch: 4 [32000/60000 (53%)]\tLoss: 0.080148\n",
      "Train Epoch: 4 [35200/60000 (59%)]\tLoss: 0.266355\n",
      "Train Epoch: 4 [38400/60000 (64%)]\tLoss: 0.444003\n",
      "Train Epoch: 4 [41600/60000 (69%)]\tLoss: 0.163561\n",
      "Train Epoch: 4 [44800/60000 (75%)]\tLoss: 0.143326\n",
      "Train Epoch: 4 [48000/60000 (80%)]\tLoss: 0.226834\n",
      "Train Epoch: 4 [51200/60000 (85%)]\tLoss: 0.173217\n",
      "Train Epoch: 4 [54400/60000 (91%)]\tLoss: 0.282335\n",
      "Train Epoch: 4 [57600/60000 (96%)]\tLoss: 0.473555\n",
      "\n",
      "Validation set: Average loss: 0.1704, Accuracy: 9468/10000 (94%)\n",
      "\n",
      "Train Epoch: 5 [0/60000 (0%)]\tLoss: 0.172186\n",
      "Train Epoch: 5 [3200/60000 (5%)]\tLoss: 0.080107\n",
      "Train Epoch: 5 [6400/60000 (11%)]\tLoss: 0.063001\n",
      "Train Epoch: 5 [9600/60000 (16%)]\tLoss: 0.204335\n",
      "Train Epoch: 5 [12800/60000 (21%)]\tLoss: 0.244116\n",
      "Train Epoch: 5 [16000/60000 (27%)]\tLoss: 0.370990\n",
      "Train Epoch: 5 [19200/60000 (32%)]\tLoss: 0.191772\n",
      "Train Epoch: 5 [22400/60000 (37%)]\tLoss: 0.207605\n",
      "Train Epoch: 5 [25600/60000 (43%)]\tLoss: 0.282310\n",
      "Train Epoch: 5 [28800/60000 (48%)]\tLoss: 0.180442\n",
      "Train Epoch: 5 [32000/60000 (53%)]\tLoss: 0.193675\n",
      "Train Epoch: 5 [35200/60000 (59%)]\tLoss: 0.328923\n",
      "Train Epoch: 5 [38400/60000 (64%)]\tLoss: 0.326783\n",
      "Train Epoch: 5 [41600/60000 (69%)]\tLoss: 0.096576\n",
      "Train Epoch: 5 [44800/60000 (75%)]\tLoss: 0.295353\n",
      "Train Epoch: 5 [48000/60000 (80%)]\tLoss: 0.057900\n",
      "Train Epoch: 5 [51200/60000 (85%)]\tLoss: 0.115339\n",
      "Train Epoch: 5 [54400/60000 (91%)]\tLoss: 0.082318\n",
      "Train Epoch: 5 [57600/60000 (96%)]\tLoss: 0.199383\n",
      "\n",
      "Validation set: Average loss: 0.1572, Accuracy: 9495/10000 (94%)\n",
      "\n",
      "Train Epoch: 6 [0/60000 (0%)]\tLoss: 0.366661\n",
      "Train Epoch: 6 [3200/60000 (5%)]\tLoss: 0.448129\n",
      "Train Epoch: 6 [6400/60000 (11%)]\tLoss: 0.169483\n",
      "Train Epoch: 6 [9600/60000 (16%)]\tLoss: 0.162377\n",
      "Train Epoch: 6 [12800/60000 (21%)]\tLoss: 0.313025\n",
      "Train Epoch: 6 [16000/60000 (27%)]\tLoss: 0.045484\n",
      "Train Epoch: 6 [19200/60000 (32%)]\tLoss: 0.069239\n",
      "Train Epoch: 6 [22400/60000 (37%)]\tLoss: 0.083572\n",
      "Train Epoch: 6 [25600/60000 (43%)]\tLoss: 0.308394\n",
      "Train Epoch: 6 [28800/60000 (48%)]\tLoss: 0.508683\n",
      "Train Epoch: 6 [32000/60000 (53%)]\tLoss: 0.128149\n",
      "Train Epoch: 6 [35200/60000 (59%)]\tLoss: 0.141613\n",
      "Train Epoch: 6 [38400/60000 (64%)]\tLoss: 0.238284\n",
      "Train Epoch: 6 [41600/60000 (69%)]\tLoss: 0.680878\n",
      "Train Epoch: 6 [44800/60000 (75%)]\tLoss: 0.167420\n",
      "Train Epoch: 6 [48000/60000 (80%)]\tLoss: 0.192894\n",
      "Train Epoch: 6 [51200/60000 (85%)]\tLoss: 0.227658\n",
      "Train Epoch: 6 [54400/60000 (91%)]\tLoss: 0.087657\n",
      "Train Epoch: 6 [57600/60000 (96%)]\tLoss: 0.231971\n",
      "\n",
      "Validation set: Average loss: 0.1446, Accuracy: 9545/10000 (95%)\n",
      "\n",
      "Train Epoch: 7 [0/60000 (0%)]\tLoss: 0.241159\n",
      "Train Epoch: 7 [3200/60000 (5%)]\tLoss: 0.318374\n",
      "Train Epoch: 7 [6400/60000 (11%)]\tLoss: 0.231960\n",
      "Train Epoch: 7 [9600/60000 (16%)]\tLoss: 0.122283\n",
      "Train Epoch: 7 [12800/60000 (21%)]\tLoss: 0.307080\n",
      "Train Epoch: 7 [16000/60000 (27%)]\tLoss: 0.204934\n",
      "Train Epoch: 7 [19200/60000 (32%)]\tLoss: 0.188220\n",
      "Train Epoch: 7 [22400/60000 (37%)]\tLoss: 0.161689\n",
      "Train Epoch: 7 [25600/60000 (43%)]\tLoss: 0.316159\n",
      "Train Epoch: 7 [28800/60000 (48%)]\tLoss: 0.118378\n",
      "Train Epoch: 7 [32000/60000 (53%)]\tLoss: 0.162988\n",
      "Train Epoch: 7 [35200/60000 (59%)]\tLoss: 0.060385\n",
      "Train Epoch: 7 [38400/60000 (64%)]\tLoss: 0.171185\n",
      "Train Epoch: 7 [41600/60000 (69%)]\tLoss: 0.236235\n",
      "Train Epoch: 7 [44800/60000 (75%)]\tLoss: 0.387445\n",
      "Train Epoch: 7 [48000/60000 (80%)]\tLoss: 0.183306\n",
      "Train Epoch: 7 [51200/60000 (85%)]\tLoss: 0.145414\n",
      "Train Epoch: 7 [54400/60000 (91%)]\tLoss: 0.115635\n",
      "Train Epoch: 7 [57600/60000 (96%)]\tLoss: 0.203130\n",
      "\n",
      "Validation set: Average loss: 0.1342, Accuracy: 9593/10000 (95%)\n",
      "\n",
      "Train Epoch: 8 [0/60000 (0%)]\tLoss: 0.222160\n",
      "Train Epoch: 8 [3200/60000 (5%)]\tLoss: 0.059090\n",
      "Train Epoch: 8 [6400/60000 (11%)]\tLoss: 0.300495\n",
      "Train Epoch: 8 [9600/60000 (16%)]\tLoss: 0.311736\n",
      "Train Epoch: 8 [12800/60000 (21%)]\tLoss: 0.181918\n",
      "Train Epoch: 8 [16000/60000 (27%)]\tLoss: 0.133744\n",
      "Train Epoch: 8 [19200/60000 (32%)]\tLoss: 0.142125\n",
      "Train Epoch: 8 [22400/60000 (37%)]\tLoss: 0.107428\n",
      "Train Epoch: 8 [25600/60000 (43%)]\tLoss: 0.076179\n",
      "Train Epoch: 8 [28800/60000 (48%)]\tLoss: 0.169438\n",
      "Train Epoch: 8 [32000/60000 (53%)]\tLoss: 0.110294\n",
      "Train Epoch: 8 [35200/60000 (59%)]\tLoss: 0.400143\n",
      "Train Epoch: 8 [38400/60000 (64%)]\tLoss: 0.372131\n",
      "Train Epoch: 8 [41600/60000 (69%)]\tLoss: 0.138154\n",
      "Train Epoch: 8 [44800/60000 (75%)]\tLoss: 0.243374\n",
      "Train Epoch: 8 [48000/60000 (80%)]\tLoss: 0.211659\n",
      "Train Epoch: 8 [51200/60000 (85%)]\tLoss: 0.078722\n",
      "Train Epoch: 8 [54400/60000 (91%)]\tLoss: 0.149197\n",
      "Train Epoch: 8 [57600/60000 (96%)]\tLoss: 0.309178\n",
      "\n",
      "Validation set: Average loss: 0.1289, Accuracy: 9601/10000 (96%)\n",
      "\n",
      "Train Epoch: 9 [0/60000 (0%)]\tLoss: 0.220086\n",
      "Train Epoch: 9 [3200/60000 (5%)]\tLoss: 0.090139\n",
      "Train Epoch: 9 [6400/60000 (11%)]\tLoss: 0.159365\n",
      "Train Epoch: 9 [9600/60000 (16%)]\tLoss: 0.111452\n",
      "Train Epoch: 9 [12800/60000 (21%)]\tLoss: 0.149101\n",
      "Train Epoch: 9 [16000/60000 (27%)]\tLoss: 0.074218\n",
      "Train Epoch: 9 [19200/60000 (32%)]\tLoss: 0.318049\n",
      "Train Epoch: 9 [22400/60000 (37%)]\tLoss: 0.210546\n",
      "Train Epoch: 9 [25600/60000 (43%)]\tLoss: 0.142323\n",
      "Train Epoch: 9 [28800/60000 (48%)]\tLoss: 0.254122\n",
      "Train Epoch: 9 [32000/60000 (53%)]\tLoss: 0.270592\n",
      "Train Epoch: 9 [35200/60000 (59%)]\tLoss: 0.091020\n",
      "Train Epoch: 9 [38400/60000 (64%)]\tLoss: 0.206703\n",
      "Train Epoch: 9 [41600/60000 (69%)]\tLoss: 0.157362\n",
      "Train Epoch: 9 [44800/60000 (75%)]\tLoss: 0.152498\n",
      "Train Epoch: 9 [48000/60000 (80%)]\tLoss: 0.168863\n",
      "Train Epoch: 9 [51200/60000 (85%)]\tLoss: 0.398676\n",
      "Train Epoch: 9 [54400/60000 (91%)]\tLoss: 0.188619\n",
      "Train Epoch: 9 [57600/60000 (96%)]\tLoss: 0.117357\n",
      "\n",
      "Validation set: Average loss: 0.1243, Accuracy: 9615/10000 (96%)\n",
      "\n",
      "Train Epoch: 10 [0/60000 (0%)]\tLoss: 0.145757\n",
      "Train Epoch: 10 [3200/60000 (5%)]\tLoss: 0.092873\n"
     ]
    },
    {
     "name": "stdout",
     "output_type": "stream",
     "text": [
      "Train Epoch: 10 [6400/60000 (11%)]\tLoss: 0.330463\n",
      "Train Epoch: 10 [9600/60000 (16%)]\tLoss: 0.155102\n",
      "Train Epoch: 10 [12800/60000 (21%)]\tLoss: 0.437229\n",
      "Train Epoch: 10 [16000/60000 (27%)]\tLoss: 0.104517\n",
      "Train Epoch: 10 [19200/60000 (32%)]\tLoss: 0.190950\n",
      "Train Epoch: 10 [22400/60000 (37%)]\tLoss: 0.235854\n",
      "Train Epoch: 10 [25600/60000 (43%)]\tLoss: 0.104482\n",
      "Train Epoch: 10 [28800/60000 (48%)]\tLoss: 0.229759\n",
      "Train Epoch: 10 [32000/60000 (53%)]\tLoss: 0.180766\n",
      "Train Epoch: 10 [35200/60000 (59%)]\tLoss: 0.125049\n",
      "Train Epoch: 10 [38400/60000 (64%)]\tLoss: 0.085540\n",
      "Train Epoch: 10 [41600/60000 (69%)]\tLoss: 0.178167\n",
      "Train Epoch: 10 [44800/60000 (75%)]\tLoss: 0.068584\n",
      "Train Epoch: 10 [48000/60000 (80%)]\tLoss: 0.104647\n",
      "Train Epoch: 10 [51200/60000 (85%)]\tLoss: 0.114643\n",
      "Train Epoch: 10 [54400/60000 (91%)]\tLoss: 0.285528\n",
      "Train Epoch: 10 [57600/60000 (96%)]\tLoss: 0.108972\n",
      "\n",
      "Validation set: Average loss: 0.1192, Accuracy: 9647/10000 (96%)\n",
      "\n",
      "CPU times: user 4min 34s, sys: 31.4 s, total: 5min 6s\n",
      "Wall time: 1min 46s\n"
     ]
    }
   ],
   "source": [
    "%%time\n",
    "epochs = 10\n",
    "\n",
    "lossv, accv = [], []\n",
    "for epoch in range(1, epochs + 1):\n",
    "    train(epoch)\n",
    "    validate(lossv, accv)"
   ]
  },
  {
   "cell_type": "markdown",
   "metadata": {},
   "source": [
    "Let's now visualize how the training progressed. \n",
    "\n",
    "* *Loss* is a function of the difference of the network output and the target values.  We are minimizing the loss function during training so it should decrease over time.\n",
    "* *Accuracy* is the classification accuracy for the test data."
   ]
  },
  {
   "cell_type": "code",
   "execution_count": 10,
   "metadata": {},
   "outputs": [
    {
     "data": {
      "image/png": "[encoded data removed]",
      "text/plain": [
       "<Figure size 360x216 with 1 Axes>"
      ]
     },
     "metadata": {},
     "output_type": "display_data"
    },
    {
     "data": {
      "image/png": "[encoded data removed]",
      "text/plain": [
       "<Figure size 360x216 with 1 Axes>"
      ]
     },
     "metadata": {},
     "output_type": "display_data"
    }
   ],
   "source": [
    "plt.figure(figsize=(5,3))\n",
    "plt.plot(np.arange(1,epochs+1), lossv)\n",
    "plt.title('validation loss')\n",
    "\n",
    "plt.figure(figsize=(5,3))\n",
    "plt.plot(np.arange(1,epochs+1), accv)\n",
    "plt.title('validation accuracy');"
   ]
  }
 ],
 "metadata": {
  "kernelspec": {
   "display_name": "Python 3",
   "language": "python",
   "name": "python3"
  },
  "language_info": {
   "codemirror_mode": {
    "name": "ipython",
    "version": 3
   },
   "file_extension": ".py",
   "mimetype": "text/x-python",
   "name": "python",
   "nbconvert_exporter": "python",
   "pygments_lexer": "ipython3",
   "version": "3.5.5"
  }
 },
 "nbformat": 4,
 "nbformat_minor": 2
}
