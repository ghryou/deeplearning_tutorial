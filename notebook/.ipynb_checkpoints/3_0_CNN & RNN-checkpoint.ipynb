{
 "cells": [
  {
   "cell_type": "markdown",
   "metadata": {},
   "source": [
    "Convolutional Neural Network\n",
    "---\n",
    "\n",
    "### Stanford CS231n - the best textbook\n",
    "\n",
    "[Main Page](http://cs231n.stanford.edu/)\n",
    "\n",
    "[Course Note](http://cs231n.github.io/)\n",
    "\n",
    "[Youtube](https://www.youtube.com/playlist?list=PL3FW7Lu3i5JvHM8ljYj-zLfQRF3EO8sYv)\n",
    "\n",
    "[Reference: CS231n Ch9 Convolutional Neural Network Lecture Note](https://www.slideshare.net/raistlinkong/cs231n-2017-lecture9-cnn-architecture)\n",
    "\n",
    "<img src=\"https://t1.daumcdn.net/cfile/tistory/276FC94357AB43B00D\" alt=\"Drawing\" style=\"width: 700px;\"/>\n",
    "\n",
    "<img src=\"https://ars.els-cdn.com/content/image/1-s2.0-S016516841500290X-gr1.jpg\" alt=\"Drawing\" style=\"width: 500px;\"/>\n",
    "\n",
    "<img src=\"https://t1.daumcdn.net/cfile/tistory/2777003557AB5C0634\" alt=\"Drawing\" style=\"width: 700px;\"/>\n",
    "\n",
    "<img src=\"https://encrypted-tbn0.gstatic.com/images?q=tbn:ANd9GcQtox5IW0GC0_AEXhVeLDJ4f-5ePyxd8AzTQUyBclJMTRTtvilm\" alt=\"Drawing\" style=\"width: 700px;\"/>\n",
    "\n",
    "<img src=\"http://yann.lecun.com/exdb/lenet/gifs/f333.gif\" alt=\"Drawing\" style=\"width: 500px;\"/>\n",
    "\n",
    "\n",
    "<center>\n",
    "    <a href=\"http://yann.lecun.com/exdb/lenet/index.html\">Yann Lecun LeNet-5 Demo</a>\n",
    "</center>\n",
    "\n",
    "\n",
    "## Case Study\n",
    "\n",
    "<img src=\"https://image.slidesharecdn.com/random-170910154045/95/-64-638.jpg?cb=1505089848\" alt=\"Drawing\" style=\"width: 700px;\"/>\n",
    "\n",
    "<img src=\"https://image.slidesharecdn.com/cs231n2017lecture9-171204024938/95/cs231n-2017-lecture9-cnn-architecture-18-638.jpg?cb=1512355830\" alt=\"Drawing\" style=\"width: 700px;\"/>\n",
    "\n",
    "<img src=\"https://image.slidesharecdn.com/cs231n2017lecture9-171204024938/95/cs231n-2017-lecture9-cnn-architecture-19-638.jpg?cb=1512355830\" alt=\"Drawing\" style=\"width: 700px;\"/>\n",
    "\n",
    "<img src=\"https://image.slidesharecdn.com/cs231n2017lecture9-171204024938/95/cs231n-2017-lecture9-cnn-architecture-26-638.jpg?cb=1512355830\" alt=\"Drawing\" style=\"width: 700px;\"/>\n",
    "\n",
    "<img src=\"https://t1.daumcdn.net/cfile/tistory/2218903557AB5C091F\" alt=\"Drawing\" style=\"width: 700px;\"/>\n",
    "\n",
    "<img src=\"https://t1.daumcdn.net/cfile/tistory/257BED3A57AB5C0A07\" alt=\"Drawing\" style=\"width: 700px;\"/>\n",
    "\n",
    "\n"
   ]
  },
  {
   "cell_type": "markdown",
   "metadata": {},
   "source": []
  }
 ],
 "metadata": {
  "kernelspec": {
   "display_name": "Python 3",
   "language": "python",
   "name": "python3"
  },
  "language_info": {
   "codemirror_mode": {
    "name": "ipython",
    "version": 3
   },
   "file_extension": ".py",
   "mimetype": "text/x-python",
   "name": "python",
   "nbconvert_exporter": "python",
   "pygments_lexer": "ipython3",
   "version": "3.5.5"
  }
 },
 "nbformat": 4,
 "nbformat_minor": 2
}
